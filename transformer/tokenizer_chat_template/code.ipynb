{
 "cells": [
  {
   "cell_type": "markdown",
   "id": "38ddb7ce",
   "metadata": {},
   "source": [
    "## Qwen3推理"
   ]
  },
  {
   "cell_type": "code",
   "execution_count": 1,
   "id": "4e311124",
   "metadata": {},
   "outputs": [
    {
     "name": "stderr",
     "output_type": "stream",
     "text": [
      "/opt/anaconda3/envs/qwen3/lib/python3.12/site-packages/tqdm/auto.py:21: TqdmWarning: IProgress not found. Please update jupyter and ipywidgets. See https://ipywidgets.readthedocs.io/en/stable/user_install.html\n",
      "  from .autonotebook import tqdm as notebook_tqdm\n"
     ]
    }
   ],
   "source": [
    "from transformers import AutoModelForCausalLM, AutoTokenizer"
   ]
  },
  {
   "cell_type": "code",
   "execution_count": 2,
   "id": "0cf65d5f",
   "metadata": {},
   "outputs": [],
   "source": [
    "model_name = \"./Qwen/Qwen3-0.6B\"\n",
    "\n",
    "# load the tokenizer and the model\n",
    "tokenizer = AutoTokenizer.from_pretrained(model_name)\n",
    "model = AutoModelForCausalLM.from_pretrained(\n",
    "    model_name,\n",
    "    torch_dtype=\"auto\",\n",
    "    device_map=\"auto\"\n",
    ")"
   ]
  },
  {
   "cell_type": "code",
   "execution_count": 4,
   "id": "708633d8",
   "metadata": {},
   "outputs": [],
   "source": [
    "# prepare the model input\n",
    "prompt = \"介绍一下澳门理工大学\"\n",
    "messages = [\n",
    "    {\"role\": \"user\", \"content\": prompt}\n",
    "]\n",
    "text = tokenizer.apply_chat_template(\n",
    "    messages,\n",
    "    tokenize=False,\n",
    "    add_generation_prompt=True,\n",
    "    # enable_thinking=True # Switches between thinking and non-thinking modes. Default is True.\n",
    "    enable_thinking=False\n",
    ")\n",
    "model_inputs = tokenizer([text], return_tensors=\"pt\").to(model.device)"
   ]
  },
  {
   "cell_type": "code",
   "execution_count": 6,
   "id": "4e978987",
   "metadata": {},
   "outputs": [
    {
     "name": "stdout",
     "output_type": "stream",
     "text": [
      "thinking content: \n",
      "content: 澳门理工大学（Museum of Science and Technology, MSTM）是澳门的一所综合性大学，位于澳门特别行政区。它成立于1992年，是澳门高等教育体系的重要组成部分，也是澳门科技创新和人才培养的重要基地。\n",
      "\n",
      "澳门理工大学以培养科技人才、推动科研与产业发展为使命，设有多个学科和研究中心，涵盖理工、医学、社会科学等多个领域。其研究方向包括人工智能、生物技术、环境科学、信息技术等，致力于解决全球面临的复杂问题。\n",
      "\n",
      "澳门理工大学注重国际合作，与多个国家和地区的高校、科研机构建立了合作关系，推动了学术交流与技术合作。它在学术界和科研界具有较高的声誉，是澳门教育和科技发展的核心力量之一。\n",
      "\n",
      "如果你对澳门理工大学的课程、研究方向或未来发展方向感兴趣，我可以进一步为你解答。\n"
     ]
    }
   ],
   "source": [
    "# conduct text completion\n",
    "generated_ids = model.generate(\n",
    "    **model_inputs,\n",
    "    max_new_tokens=32768\n",
    ")\n",
    "output_ids = generated_ids[0][len(model_inputs.input_ids[0]):].tolist() \n",
    "\n",
    "# parsing thinking content\n",
    "try:\n",
    "    # rindex finding 151668 (</think>)\n",
    "    index = len(output_ids) - output_ids[::-1].index(151668)\n",
    "except ValueError:\n",
    "    index = 0\n",
    "\n",
    "thinking_content = tokenizer.decode(output_ids[:index], skip_special_tokens=True).strip(\"\\n\")\n",
    "content = tokenizer.decode(output_ids[index:], skip_special_tokens=True).strip(\"\\n\")\n",
    "\n",
    "print(\"thinking content:\", thinking_content)\n",
    "print(\"content:\", content)"
   ]
  },
  {
   "cell_type": "markdown",
   "id": "5922b874",
   "metadata": {},
   "source": [
    "## Tokenizer查看"
   ]
  },
  {
   "cell_type": "code",
   "execution_count": 4,
   "id": "ff781811",
   "metadata": {},
   "outputs": [
    {
     "name": "stdout",
     "output_type": "stream",
     "text": [
      "Encoded with special tokens: [109432, 101926, 99562]\n",
      "Decoded with special tokens: 介绍一下香港大学\n"
     ]
    }
   ],
   "source": [
    "from transformers import AutoTokenizer\n",
    "\n",
    "tokenizer = AutoTokenizer.from_pretrained(\"./Qwen/Qwen3-0.6B\")\n",
    "text = \"介绍一下香港大学\"\n",
    "encoded_with_special = tokenizer.encode(text, add_special_tokens=True)\n",
    "print(\"Encoded with special tokens:\", encoded_with_special)\n",
    "decoded_with_special = tokenizer.decode(encoded_with_special, skip_special_tokens=False)\n",
    "print(\"Decoded with special tokens:\", decoded_with_special)"
   ]
  },
  {
   "cell_type": "code",
   "execution_count": 8,
   "id": "22835a45",
   "metadata": {},
   "outputs": [
    {
     "name": "stdout",
     "output_type": "stream",
     "text": [
      "Encoded chat: <|im_start|>user\n",
      "What's the weather today in LA?<|im_end|>\n",
      "<|im_start|>assistant\n",
      "The weather in LA is sunny with a high of 75°F.<|im_end|>\n",
      "<|im_start|>user\n",
      "Will it rain tomorrow?<|im_end|>\n",
      "<|im_start|>assistant\n",
      "<think>\n",
      "\n",
      "</think>\n",
      "\n",
      "No, it's expected to be clear with a low of 58°F.<|im_end|>\n",
      "\n"
     ]
    }
   ],
   "source": [
    "chat = [\n",
    "    {\"role\": \"user\", \"content\": \"What's the weather today in LA?\"},\n",
    "    {\"role\": \"assistant\", \"content\": \"The weather in LA is sunny with a high of 75°F.\"},\n",
    "    {\"role\": \"user\", \"content\": \"Will it rain tomorrow?\"},\n",
    "    {\"role\": \"assistant\", \"content\": \"No, it's expected to be clear with a low of 58°F.\"},\n",
    "]\n",
    "\n",
    "encoded_chat = tokenizer.apply_chat_template(chat, tokenize=False, enable_thinking=True)\n",
    "print(\"Encoded chat:\", encoded_chat)"
   ]
  },
  {
   "cell_type": "code",
   "execution_count": 9,
   "id": "8a2deff8",
   "metadata": {},
   "outputs": [
    {
     "name": "stdout",
     "output_type": "stream",
     "text": [
      "Encoded chat: <|im_start|>user\n",
      "What's the weather today in LA?<|im_end|>\n",
      "<|im_start|>assistant\n",
      "The weather in LA is sunny with a high of 75°F.<|im_end|>\n",
      "<|im_start|>user\n",
      "Will it rain tomorrow?<|im_end|>\n",
      "<|im_start|>assistant\n",
      "<think>\n",
      "\n",
      "</think>\n",
      "\n",
      "No, it's expected to be clear with a low of 58°F.<|im_end|>\n",
      "\n"
     ]
    }
   ],
   "source": [
    "encoded_chat = tokenizer.apply_chat_template(chat, tokenize=False, enable_thinking=False)\n",
    "print(\"Encoded chat:\", encoded_chat)"
   ]
  },
  {
   "cell_type": "code",
   "execution_count": null,
   "id": "3211e9cb",
   "metadata": {},
   "outputs": [],
   "source": []
  }
 ],
 "metadata": {
  "kernelspec": {
   "display_name": "qwen3",
   "language": "python",
   "name": "python3"
  },
  "language_info": {
   "codemirror_mode": {
    "name": "ipython",
    "version": 3
   },
   "file_extension": ".py",
   "mimetype": "text/x-python",
   "name": "python",
   "nbconvert_exporter": "python",
   "pygments_lexer": "ipython3",
   "version": "3.12.9"
  }
 },
 "nbformat": 4,
 "nbformat_minor": 5
}
